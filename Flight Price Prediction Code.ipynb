{
 "cells": [
  {
   "cell_type": "markdown",
   "id": "3167ed27",
   "metadata": {},
   "source": [
    "## Important Libraries"
   ]
  },
  {
   "cell_type": "code",
   "execution_count": 1,
   "id": "3385ee18",
   "metadata": {},
   "outputs": [],
   "source": [
    "import numpy as np\n",
    "import pandas as pd\n",
    "import matplotlib.pyplot as plt\n",
    "import seaborn as sns\n",
    "import pickle as pkl\n",
    "\n",
    "sns.set()\n",
    "\n",
    "from sklearn.model_selection import train_test_split, RandomizedSearchCV\n",
    "from sklearn.linear_model import LinearRegression, Ridge, Lasso, ElasticNet\n",
    "from sklearn.preprocessing import StandardScaler, PolynomialFeatures\n",
    "from sklearn.pipeline import make_pipeline\n",
    "from sklearn.model_selection import cross_val_score, train_test_split, KFold, GridSearchCV\n",
    "from sklearn.ensemble import RandomForestRegressor, ExtraTreesRegressor\n",
    "from sklearn import metrics"
   ]
  },
  {
   "cell_type": "markdown",
   "id": "5fd4b2a9",
   "metadata": {},
   "source": [
    "## Scraped Datasets\n",
    "\n",
    "### Loading Scraped Datasets"
   ]
  },
  {
   "cell_type": "code",
   "execution_count": 2,
   "id": "3c01c010",
   "metadata": {},
   "outputs": [],
   "source": [
    "df_1 = pd.read_csv(\"BOM_CCU.csv\")\n",
    "df_2 = pd.read_csv(\"BOM_DEL.csv\")\n",
    "df_3 = pd.read_csv(\"BOM_MAA.csv\")\n",
    "df_4 = pd.read_csv(\"CCU_BOM.csv\")\n",
    "df_5 = pd.read_csv(\"CCU_DEL.csv\")\n",
    "df_6 = pd.read_csv(\"CCU_MAA.csv\")\n",
    "df_7 = pd.read_csv(\"DEL_BOM.csv\")\n",
    "df_8 = pd.read_csv(\"DEL_CCU.csv\")\n",
    "df_9 = pd.read_csv(\"DEL_MAA.csv\")\n",
    "df_10 = pd.read_csv(\"MAA_BOM.csv\")\n",
    "df_11 = pd.read_csv(\"MAA_CCU.csv\")\n",
    "df_12 = pd.read_csv(\"MAA_DEL.csv\")"
   ]
  },
  {
   "cell_type": "code",
   "execution_count": 3,
   "id": "150b210f",
   "metadata": {},
   "outputs": [
    {
     "name": "stdout",
     "output_type": "stream",
     "text": [
      "BOM => CCU route has 74 trips\n",
      "BOM => DEL route has 118 trips\n",
      "BOM => MAA route has 84 trips\n",
      "CCU => BOM route has 127 trips\n",
      "CCU => DEL route has 126 trips\n",
      "CCU => MAA route has 127 trips\n",
      "DEL => BOM route has 124 trips\n",
      "DEL => CCU route has 107 trips\n",
      "DEL => CCU route has 107 trips\n",
      "MAA => CCU route has 107 trips\n",
      "MAA => CCU route has 107 trips\n",
      "MAA => CCU route has 107 trips\n"
     ]
    }
   ],
   "source": [
    "print(f\"{df_1['Source'][0]} => {df_1['Destination'][0]} route has {df_1.shape[0]} trips\")\n",
    "print(f\"{df_2['Source'][0]} => {df_2['Destination'][0]} route has {df_2.shape[0]} trips\")\n",
    "print(f\"{df_3['Source'][0]} => {df_3['Destination'][0]} route has {df_4.shape[0]} trips\")\n",
    "print(f\"{df_4['Source'][0]} => {df_4['Destination'][0]} route has {df_5.shape[0]} trips\")\n",
    "print(f\"{df_5['Source'][0]} => {df_5['Destination'][0]} route has {df_7.shape[0]} trips\")\n",
    "print(f\"{df_6['Source'][0]} => {df_6['Destination'][0]} route has {df_8.shape[0]} trips\")\n",
    "print(f\"{df_7['Source'][0]} => {df_7['Destination'][0]} route has {df_10.shape[0]} trips\")\n",
    "print(f\"{df_8['Source'][0]} => {df_8['Destination'][0]} route has {df_11.shape[0]} trips\")\n",
    "print(f\"{df_9['Source'][0]} => {df_8['Destination'][0]} route has {df_11.shape[0]} trips\")\n",
    "print(f\"{df_10['Source'][0]} => {df_8['Destination'][0]} route has {df_11.shape[0]} trips\")\n",
    "print(f\"{df_11['Source'][0]} => {df_8['Destination'][0]} route has {df_11.shape[0]} trips\")\n",
    "print(f\"{df_12['Source'][0]} => {df_8['Destination'][0]} route has {df_11.shape[0]} trips\")"
   ]
  },
  {
   "cell_type": "markdown",
   "id": "3c202f97",
   "metadata": {},
   "source": [
    "### Defining Function to clean Data"
   ]
  },
  {
   "cell_type": "code",
   "execution_count": 4,
   "id": "180868d8",
   "metadata": {},
   "outputs": [],
   "source": [
    "# convert duration to numerical format in minutes\n",
    "def clean_duration(duration):\n",
    "    duration = list(duration)\n",
    "    duration_hours = []\n",
    "    duration_mins = []\n",
    "    for i in range(len(duration)):\n",
    "        duration_hours.append(int(duration[i].split(sep = \"h\")[0])) # Extract hours from duration\n",
    "        duration_mins.append(int(duration[i].split(sep = \"m\")[0].split()[-1])) # Extracts only minutes from duration\n",
    "\n",
    "    d = []\n",
    "    for i in range(len(duration)):\n",
    "        d.append(duration_hours[i]*60+duration_mins[i])\n",
    "        \n",
    "    return d\n",
    "\n",
    "# convert price to numerical format in INR\n",
    "def clean_price(price):\n",
    "    price = price.str.replace(',','',regex=True)\n",
    "    price = price.str.replace('SAR','',regex=True)\n",
    "    price = price.str.strip()\n",
    "    price = round(pd.to_numeric(price)*21.64,2)\n",
    "    return price\n",
    "\n",
    "# convert date to datetime format\n",
    "def clean_date(date):\n",
    "    date = pd.to_datetime(date)\n",
    "    return date\n",
    "\n",
    "# get price quantile to deal with outliers\n",
    "def get_price_quantile(price):\n",
    "    Q1 = price.quantile(0.25)\n",
    "    Q3 = price.quantile(0.75)\n",
    "    IQR = Q3 - Q1\n",
    "    lower_lim = Q1 - 1.5 * IQR\n",
    "    upper_lim = Q3 + 1.5 * IQR\n",
    "    return (lower_lim,upper_lim)\n",
    "\n",
    "# get average of each airline\n",
    "def get_avg_per_airline(x):\n",
    "    # average for trips with multiple airlines\n",
    "    multiple_airlines = x[x[\"Airline\"].str.contains(\",\")]\n",
    "    b = list(multiple_airlines[\"Airline\"].str.split(\",\"))\n",
    "    d = [] # Airline 1\n",
    "    e = [] # Airline 2\n",
    "    for i in range(len(b)):\n",
    "        d.append(b[i][0])\n",
    "        e.append(b[i][1])\n",
    "    for i in range(len(e)):\n",
    "        e[i] = e[i].strip()\n",
    "    m_airlines = list(set(d)) + list(set(e))\n",
    "    column_names = [\"Airline\", \"Average Price\"]\n",
    "    t_ = pd.DataFrame(columns = column_names)\n",
    "    for airline in m_airlines:\n",
    "        t = pd.DataFrame(x[x[\"Airline\"].str.contains(airline)][\"Airline\"])\n",
    "        t[\"Average Price\"] = x[x[\"Airline\"].str.contains(airline)][\"Price\"].mean()\n",
    "        t_ = t_.append(t)\n",
    "    t__ = t_.groupby(\"Airline\",as_index = False)[\"Average Price\"].mean()\n",
    "    k = multiple_airlines.copy()\n",
    "    k = k.merge(t__, on = \"Airline\", how = \"left\")\n",
    "    \n",
    "    # average for trips with single airlines\n",
    "    single_airlines = x[~x[\"Airline\"].str.contains(\",\")]\n",
    "    avg_per_airline = single_airlines.groupby(\"Airline\", as_index = False)[\"Price\"].mean()\n",
    "    avg_per_airline = avg_per_airline.rename(columns={\"Price\" : \"Average Price\"})\n",
    "    temp = single_airlines.copy()\n",
    "    temp = temp.merge(avg_per_airline, on='Airline', how =\"left\")\n",
    "    \n",
    "    temp_1 = temp.groupby(\"Airline\", as_index = False)[\"Average Price\"].mean()\n",
    "    k_1 = k.groupby(\"Airline\", as_index = False)[\"Average Price\"].mean()\n",
    "    k_temp = pd.concat([k_1,temp_1])\n",
    "    y = x.merge(k_temp, on = \"Airline\")\n",
    "    \n",
    "    return y"
   ]
  },
  {
   "cell_type": "code",
   "execution_count": 5,
   "id": "56b90096",
   "metadata": {},
   "outputs": [],
   "source": [
    "dfs_raw = [df_1,df_2,df_3,df_4,df_5,df_6,df_7,df_8,df_9,df_10,df_11,df_12]"
   ]
  },
  {
   "cell_type": "code",
   "execution_count": 6,
   "id": "d2435863",
   "metadata": {},
   "outputs": [
    {
     "name": "stdout",
     "output_type": "stream",
     "text": [
      "1\n",
      "2\n",
      "3\n",
      "4\n",
      "5\n",
      "6\n",
      "7\n",
      "8\n",
      "9\n",
      "10\n",
      "11\n",
      "12\n"
     ]
    }
   ],
   "source": [
    "# cleaning the data\n",
    "count = 0\n",
    "dfs = []\n",
    "for df in dfs_raw:\n",
    "    count+=1\n",
    "    print(count)\n",
    "    df.drop_duplicates() # drop duplicate rows\n",
    "    df[\"Duration\"] = clean_duration(df[\"Duration\"]) # convert duration to numerical minutes format\n",
    "    df[\"Price\"] = clean_price(df[\"Price\"]) # convert price to numerical format in USD\n",
    "    df[\"Date\"] = clean_date(df[\"Date\"]) # convert date to datetime format\n",
    "    dfs.append(get_avg_per_airline(df)) # get average per airline\n"
   ]
  },
  {
   "cell_type": "markdown",
   "id": "3ea66047",
   "metadata": {},
   "source": [
    "### BoxPlot For Outliers"
   ]
  },
  {
   "cell_type": "code",
   "execution_count": 7,
   "id": "06b699ee",
   "metadata": {},
   "outputs": [
    {
     "data": {
      "image/png": "[encoded data removed]",
      "text/plain": [
       "<Figure size 1080x1080 with 12 Axes>"
      ]
     },
     "metadata": {},
     "output_type": "display_data"
    }
   ],
   "source": [
    "# boxplots for each route\n",
    "k=0\n",
    "figure, axis = plt.subplots(4, 3, figsize=(15,15))\n",
    "for i in range(4):\n",
    "    for j in range(3):\n",
    "        axis[i,j].boxplot(dfs[k]['Price'])\n",
    "        axis[i,j].set_title(f\"{dfs[k]['Source'][0]} TO {dfs[k]['Destination'][0]}\")\n",
    "        k += 1"
   ]
  },
  {
   "cell_type": "code",
   "execution_count": 8,
   "id": "eca65d14",
   "metadata": {},
   "outputs": [],
   "source": [
    "# get quantile to deal with outliers\n",
    "lower = []\n",
    "upper = []\n",
    "for df in dfs:\n",
    "    x = get_price_quantile(df['Price'])\n",
    "    lower.append(x[0])\n",
    "    upper.append(x[1])"
   ]
  },
  {
   "cell_type": "code",
   "execution_count": 9,
   "id": "a1eea80d",
   "metadata": {},
   "outputs": [],
   "source": [
    "# drop outliers\n",
    "k = 0\n",
    "for df in dfs:\n",
    "    low = df['Price'] < lower[k]\n",
    "    up = df['Price'] > upper[k]\n",
    "    df['Price'] = df['Price'][~(low|up)]\n",
    "    df.dropna(inplace=True)\n",
    "    df.reset_index(drop = True,inplace=True)\n",
    "    k+=1"
   ]
  },
  {
   "cell_type": "code",
   "execution_count": 10,
   "id": "c6748cd2",
   "metadata": {},
   "outputs": [
    {
     "data": {
      "image/png": "[encoded data removed]",
      "text/plain": [
       "<Figure size 1080x1080 with 12 Axes>"
      ]
     },
     "metadata": {},
     "output_type": "display_data"
    }
   ],
   "source": [
    "# boxplot for each route after dealing with outliers\n",
    "k=0\n",
    "figure, axis = plt.subplots(4, 3, figsize=(15,15))\n",
    "for i in range(4):\n",
    "    for j in range(3):\n",
    "        axis[i,j].boxplot(dfs[k]['Price'])\n",
    "        axis[i,j].set_title(f\"{dfs[k]['Source'][0]} TO {dfs[k]['Destination'][0]}\")\n",
    "        k += 1"
   ]
  },
  {
   "cell_type": "code",
   "execution_count": 11,
   "id": "5a86562e",
   "metadata": {},
   "outputs": [
    {
     "data": {
      "text/html": [
       "<div>\n",
       "<style scoped>\n",
       "    .dataframe tbody tr th:only-of-type {\n",
       "        vertical-align: middle;\n",
       "    }\n",
       "\n",
       "    .dataframe tbody tr th {\n",
       "        vertical-align: top;\n",
       "    }\n",
       "\n",
       "    .dataframe thead th {\n",
       "        text-align: right;\n",
       "    }\n",
       "</style>\n",
       "<table border=\"1\" class=\"dataframe\">\n",
       "  <thead>\n",
       "    <tr style=\"text-align: right;\">\n",
       "      <th></th>\n",
       "      <th>Airline</th>\n",
       "      <th>Source</th>\n",
       "      <th>Destination</th>\n",
       "      <th>Duration</th>\n",
       "      <th>Total stops</th>\n",
       "      <th>Price</th>\n",
       "      <th>Date</th>\n",
       "      <th>Average Price</th>\n",
       "    </tr>\n",
       "  </thead>\n",
       "  <tbody>\n",
       "    <tr>\n",
       "      <th>0</th>\n",
       "      <td>Air India</td>\n",
       "      <td>BOM</td>\n",
       "      <td>CCU</td>\n",
       "      <td>185</td>\n",
       "      <td>nonstop</td>\n",
       "      <td>8201.56</td>\n",
       "      <td>2022-07-12</td>\n",
       "      <td>7798.723077</td>\n",
       "    </tr>\n",
       "    <tr>\n",
       "      <th>1</th>\n",
       "      <td>Air India</td>\n",
       "      <td>BOM</td>\n",
       "      <td>CCU</td>\n",
       "      <td>185</td>\n",
       "      <td>nonstop</td>\n",
       "      <td>7509.08</td>\n",
       "      <td>2022-07-12</td>\n",
       "      <td>7798.723077</td>\n",
       "    </tr>\n",
       "    <tr>\n",
       "      <th>2</th>\n",
       "      <td>Air India</td>\n",
       "      <td>BOM</td>\n",
       "      <td>CCU</td>\n",
       "      <td>165</td>\n",
       "      <td>nonstop</td>\n",
       "      <td>8201.56</td>\n",
       "      <td>2022-08-12</td>\n",
       "      <td>7798.723077</td>\n",
       "    </tr>\n",
       "    <tr>\n",
       "      <th>3</th>\n",
       "      <td>Air India</td>\n",
       "      <td>BOM</td>\n",
       "      <td>CCU</td>\n",
       "      <td>165</td>\n",
       "      <td>nonstop</td>\n",
       "      <td>7509.08</td>\n",
       "      <td>2022-08-12</td>\n",
       "      <td>7798.723077</td>\n",
       "    </tr>\n",
       "    <tr>\n",
       "      <th>4</th>\n",
       "      <td>Air India</td>\n",
       "      <td>BOM</td>\n",
       "      <td>CCU</td>\n",
       "      <td>185</td>\n",
       "      <td>nonstop</td>\n",
       "      <td>7509.08</td>\n",
       "      <td>2022-08-12</td>\n",
       "      <td>7798.723077</td>\n",
       "    </tr>\n",
       "    <tr>\n",
       "      <th>...</th>\n",
       "      <td>...</td>\n",
       "      <td>...</td>\n",
       "      <td>...</td>\n",
       "      <td>...</td>\n",
       "      <td>...</td>\n",
       "      <td>...</td>\n",
       "      <td>...</td>\n",
       "      <td>...</td>\n",
       "    </tr>\n",
       "    <tr>\n",
       "      <th>108</th>\n",
       "      <td>IndiGo</td>\n",
       "      <td>MAA</td>\n",
       "      <td>DEL</td>\n",
       "      <td>175</td>\n",
       "      <td>nonstop</td>\n",
       "      <td>7530.72</td>\n",
       "      <td>2022-12-14</td>\n",
       "      <td>7859.167111</td>\n",
       "    </tr>\n",
       "    <tr>\n",
       "      <th>109</th>\n",
       "      <td>IndiGo</td>\n",
       "      <td>MAA</td>\n",
       "      <td>DEL</td>\n",
       "      <td>175</td>\n",
       "      <td>nonstop</td>\n",
       "      <td>7530.72</td>\n",
       "      <td>2022-12-14</td>\n",
       "      <td>7859.167111</td>\n",
       "    </tr>\n",
       "    <tr>\n",
       "      <th>110</th>\n",
       "      <td>IndiGo</td>\n",
       "      <td>MAA</td>\n",
       "      <td>DEL</td>\n",
       "      <td>170</td>\n",
       "      <td>nonstop</td>\n",
       "      <td>8158.28</td>\n",
       "      <td>2022-12-14</td>\n",
       "      <td>7859.167111</td>\n",
       "    </tr>\n",
       "    <tr>\n",
       "      <th>111</th>\n",
       "      <td>IndiGo</td>\n",
       "      <td>MAA</td>\n",
       "      <td>DEL</td>\n",
       "      <td>185</td>\n",
       "      <td>nonstop</td>\n",
       "      <td>7530.72</td>\n",
       "      <td>2022-12-14</td>\n",
       "      <td>7859.167111</td>\n",
       "    </tr>\n",
       "    <tr>\n",
       "      <th>112</th>\n",
       "      <td>IndiGo</td>\n",
       "      <td>MAA</td>\n",
       "      <td>DEL</td>\n",
       "      <td>180</td>\n",
       "      <td>nonstop</td>\n",
       "      <td>8158.28</td>\n",
       "      <td>2022-12-14</td>\n",
       "      <td>7859.167111</td>\n",
       "    </tr>\n",
       "  </tbody>\n",
       "</table>\n",
       "<p>1274 rows × 8 columns</p>\n",
       "</div>"
      ],
      "text/plain": [
       "       Airline Source Destination  Duration Total stops    Price       Date  \\\n",
       "0    Air India    BOM         CCU       185    nonstop   8201.56 2022-07-12   \n",
       "1    Air India    BOM         CCU       185    nonstop   7509.08 2022-07-12   \n",
       "2    Air India    BOM         CCU       165    nonstop   8201.56 2022-08-12   \n",
       "3    Air India    BOM         CCU       165    nonstop   7509.08 2022-08-12   \n",
       "4    Air India    BOM         CCU       185    nonstop   7509.08 2022-08-12   \n",
       "..         ...    ...         ...       ...         ...      ...        ...   \n",
       "108     IndiGo    MAA         DEL       175    nonstop   7530.72 2022-12-14   \n",
       "109     IndiGo    MAA         DEL       175    nonstop   7530.72 2022-12-14   \n",
       "110     IndiGo    MAA         DEL       170    nonstop   8158.28 2022-12-14   \n",
       "111     IndiGo    MAA         DEL       185    nonstop   7530.72 2022-12-14   \n",
       "112     IndiGo    MAA         DEL       180    nonstop   8158.28 2022-12-14   \n",
       "\n",
       "     Average Price  \n",
       "0      7798.723077  \n",
       "1      7798.723077  \n",
       "2      7798.723077  \n",
       "3      7798.723077  \n",
       "4      7798.723077  \n",
       "..             ...  \n",
       "108    7859.167111  \n",
       "109    7859.167111  \n",
       "110    7859.167111  \n",
       "111    7859.167111  \n",
       "112    7859.167111  \n",
       "\n",
       "[1274 rows x 8 columns]"
      ]
     },
     "execution_count": 11,
     "metadata": {},
     "output_type": "execute_result"
    }
   ],
   "source": [
    "# concat all routes into one dataframe\n",
    "df = pd.concat(dfs)\n",
    "df"
   ]
  },
  {
   "cell_type": "code",
   "execution_count": 12,
   "id": "874880e1",
   "metadata": {},
   "outputs": [
    {
     "data": {
      "text/plain": [
       "Airline          0\n",
       "Source           0\n",
       "Destination      0\n",
       "Duration         0\n",
       "Total stops      0\n",
       "Price            0\n",
       "Date             0\n",
       "Average Price    0\n",
       "dtype: int64"
      ]
     },
     "execution_count": 12,
     "metadata": {},
     "output_type": "execute_result"
    }
   ],
   "source": [
    "# check for null values\n",
    "df.isnull().sum()"
   ]
  },
  {
   "cell_type": "markdown",
   "id": "8b8908d8",
   "metadata": {},
   "source": [
    "### Handling Categorical Data"
   ]
  },
  {
   "cell_type": "code",
   "execution_count": 13,
   "id": "18c51756",
   "metadata": {},
   "outputs": [],
   "source": [
    "# the Airline column will be replaced by the average price per airline.\n",
    "df.drop(\"Airline\", axis = 1, inplace = True)"
   ]
  },
  {
   "cell_type": "code",
   "execution_count": 14,
   "id": "0414d5d2",
   "metadata": {},
   "outputs": [
    {
     "data": {
      "text/plain": [
       "DEL    355\n",
       "MAA    318\n",
       "CCU    313\n",
       "BOM    288\n",
       "Name: Source, dtype: int64"
      ]
     },
     "execution_count": 14,
     "metadata": {},
     "output_type": "execute_result"
    }
   ],
   "source": [
    "# source\n",
    "df[\"Source\"].value_counts()"
   ]
  },
  {
   "cell_type": "code",
   "execution_count": 15,
   "id": "d3bc0866",
   "metadata": {},
   "outputs": [
    {
     "data": {
      "text/plain": [
       "<seaborn.axisgrid.FacetGrid at 0x1b50141fd00>"
      ]
     },
     "execution_count": 15,
     "metadata": {},
     "output_type": "execute_result"
    },
    {
     "data": {
      "image/png": "[encoded data removed]",
      "text/plain": [
       "<Figure size 1296x432 with 1 Axes>"
      ]
     },
     "metadata": {},
     "output_type": "display_data"
    }
   ],
   "source": [
    "# source vs price\n",
    "sns.catplot(y = \"Price\", x= \"Source\", data = df.sort_values(\"Price\", ascending = False), kind=\"boxen\", height = 6, aspect = 3)"
   ]
  },
  {
   "cell_type": "code",
   "execution_count": 16,
   "id": "47dd1686",
   "metadata": {},
   "outputs": [
    {
     "data": {
      "text/html": [
       "<div>\n",
       "<style scoped>\n",
       "    .dataframe tbody tr th:only-of-type {\n",
       "        vertical-align: middle;\n",
       "    }\n",
       "\n",
       "    .dataframe tbody tr th {\n",
       "        vertical-align: top;\n",
       "    }\n",
       "\n",
       "    .dataframe thead th {\n",
       "        text-align: right;\n",
       "    }\n",
       "</style>\n",
       "<table border=\"1\" class=\"dataframe\">\n",
       "  <thead>\n",
       "    <tr style=\"text-align: right;\">\n",
       "      <th></th>\n",
       "      <th>Source_CCU</th>\n",
       "      <th>Source_DEL</th>\n",
       "      <th>Source_MAA</th>\n",
       "    </tr>\n",
       "  </thead>\n",
       "  <tbody>\n",
       "    <tr>\n",
       "      <th>0</th>\n",
       "      <td>0</td>\n",
       "      <td>0</td>\n",
       "      <td>0</td>\n",
       "    </tr>\n",
       "    <tr>\n",
       "      <th>1</th>\n",
       "      <td>0</td>\n",
       "      <td>0</td>\n",
       "      <td>0</td>\n",
       "    </tr>\n",
       "    <tr>\n",
       "      <th>2</th>\n",
       "      <td>0</td>\n",
       "      <td>0</td>\n",
       "      <td>0</td>\n",
       "    </tr>\n",
       "    <tr>\n",
       "      <th>3</th>\n",
       "      <td>0</td>\n",
       "      <td>0</td>\n",
       "      <td>0</td>\n",
       "    </tr>\n",
       "    <tr>\n",
       "      <th>4</th>\n",
       "      <td>0</td>\n",
       "      <td>0</td>\n",
       "      <td>0</td>\n",
       "    </tr>\n",
       "  </tbody>\n",
       "</table>\n",
       "</div>"
      ],
      "text/plain": [
       "   Source_CCU  Source_DEL  Source_MAA\n",
       "0           0           0           0\n",
       "1           0           0           0\n",
       "2           0           0           0\n",
       "3           0           0           0\n",
       "4           0           0           0"
      ]
     },
     "execution_count": 16,
     "metadata": {},
     "output_type": "execute_result"
    }
   ],
   "source": [
    "# performing OneHotEncoding on Source since it's nominal categorical data  \n",
    "source =df[[\"Source\"]]\n",
    "source =pd.get_dummies(source, drop_first=True)\n",
    "source.head()"
   ]
  },
  {
   "cell_type": "code",
   "execution_count": 17,
   "id": "68120dc2",
   "metadata": {},
   "outputs": [
    {
     "data": {
      "text/plain": [
       "MAA    364\n",
       "DEL    316\n",
       "BOM    309\n",
       "CCU    285\n",
       "Name: Destination, dtype: int64"
      ]
     },
     "execution_count": 17,
     "metadata": {},
     "output_type": "execute_result"
    }
   ],
   "source": [
    "# destination\n",
    "df[\"Destination\"].value_counts()"
   ]
  },
  {
   "cell_type": "code",
   "execution_count": 18,
   "id": "a3e1531c",
   "metadata": {},
   "outputs": [
    {
     "data": {
      "text/plain": [
       "<seaborn.axisgrid.FacetGrid at 0x1b57fb42e20>"
      ]
     },
     "execution_count": 18,
     "metadata": {},
     "output_type": "execute_result"
    },
    {
     "data": {
      "image/png": "[encoded data removed]",
      "text/plain": [
       "<Figure size 1296x432 with 1 Axes>"
      ]
     },
     "metadata": {},
     "output_type": "display_data"
    }
   ],
   "source": [
    "# destination vs price\n",
    "sns.catplot(y = \"Price\", x= \"Destination\", data = df.sort_values(\"Price\", ascending = False), kind=\"boxen\", height = 6, aspect = 3)"
   ]
  },
  {
   "cell_type": "code",
   "execution_count": 19,
   "id": "98ad78e3",
   "metadata": {},
   "outputs": [
    {
     "data": {
      "text/html": [
       "<div>\n",
       "<style scoped>\n",
       "    .dataframe tbody tr th:only-of-type {\n",
       "        vertical-align: middle;\n",
       "    }\n",
       "\n",
       "    .dataframe tbody tr th {\n",
       "        vertical-align: top;\n",
       "    }\n",
       "\n",
       "    .dataframe thead th {\n",
       "        text-align: right;\n",
       "    }\n",
       "</style>\n",
       "<table border=\"1\" class=\"dataframe\">\n",
       "  <thead>\n",
       "    <tr style=\"text-align: right;\">\n",
       "      <th></th>\n",
       "      <th>Destination_CCU</th>\n",
       "      <th>Destination_DEL</th>\n",
       "      <th>Destination_MAA</th>\n",
       "    </tr>\n",
       "  </thead>\n",
       "  <tbody>\n",
       "    <tr>\n",
       "      <th>0</th>\n",
       "      <td>1</td>\n",
       "      <td>0</td>\n",
       "      <td>0</td>\n",
       "    </tr>\n",
       "    <tr>\n",
       "      <th>1</th>\n",
       "      <td>1</td>\n",
       "      <td>0</td>\n",
       "      <td>0</td>\n",
       "    </tr>\n",
       "    <tr>\n",
       "      <th>2</th>\n",
       "      <td>1</td>\n",
       "      <td>0</td>\n",
       "      <td>0</td>\n",
       "    </tr>\n",
       "    <tr>\n",
       "      <th>3</th>\n",
       "      <td>1</td>\n",
       "      <td>0</td>\n",
       "      <td>0</td>\n",
       "    </tr>\n",
       "    <tr>\n",
       "      <th>4</th>\n",
       "      <td>1</td>\n",
       "      <td>0</td>\n",
       "      <td>0</td>\n",
       "    </tr>\n",
       "  </tbody>\n",
       "</table>\n",
       "</div>"
      ],
      "text/plain": [
       "   Destination_CCU  Destination_DEL  Destination_MAA\n",
       "0                1                0                0\n",
       "1                1                0                0\n",
       "2                1                0                0\n",
       "3                1                0                0\n",
       "4                1                0                0"
      ]
     },
     "execution_count": 19,
     "metadata": {},
     "output_type": "execute_result"
    }
   ],
   "source": [
    "# performing OneHotEncoding on Destination since it's nominal categorical data\n",
    "destination = df[[\"Destination\"]]\n",
    "destination = pd.get_dummies(destination, drop_first=True)\n",
    "destination.head()"
   ]
  },
  {
   "cell_type": "code",
   "execution_count": 20,
   "id": "234d66d7",
   "metadata": {},
   "outputs": [
    {
     "name": "stdout",
     "output_type": "stream",
     "text": [
      "nonstop     1107\n",
      "1 stop       164\n",
      "2 stops        3\n",
      "Name: Total stops, dtype: int64\n"
     ]
    },
    {
     "data": {
      "text/plain": [
       "array(['nonstop ', '1 stop ', '2 stops '], dtype=object)"
      ]
     },
     "execution_count": 20,
     "metadata": {},
     "output_type": "execute_result"
    }
   ],
   "source": [
    "# total stops\n",
    "print(df[\"Total stops\"].value_counts())\n",
    "df[\"Total stops\"].unique()"
   ]
  },
  {
   "cell_type": "code",
   "execution_count": 21,
   "id": "0eb96a6e",
   "metadata": {},
   "outputs": [],
   "source": [
    "# performing LabelEncoder on Total stops since it's ordinal categorical data\n",
    "df.replace({\"nonstop \":0, \"1 stop \": 1, \"2 stops \": 2, \"3 stops \":3}, inplace=True)"
   ]
  },
  {
   "cell_type": "code",
   "execution_count": 22,
   "id": "7961c007",
   "metadata": {},
   "outputs": [],
   "source": [
    "final_df = pd.concat([df,source,destination], axis=1).reset_index(drop = True)"
   ]
  },
  {
   "cell_type": "code",
   "execution_count": 23,
   "id": "0d797286",
   "metadata": {},
   "outputs": [
    {
     "data": {
      "text/html": [
       "<div>\n",
       "<style scoped>\n",
       "    .dataframe tbody tr th:only-of-type {\n",
       "        vertical-align: middle;\n",
       "    }\n",
       "\n",
       "    .dataframe tbody tr th {\n",
       "        vertical-align: top;\n",
       "    }\n",
       "\n",
       "    .dataframe thead th {\n",
       "        text-align: right;\n",
       "    }\n",
       "</style>\n",
       "<table border=\"1\" class=\"dataframe\">\n",
       "  <thead>\n",
       "    <tr style=\"text-align: right;\">\n",
       "      <th></th>\n",
       "      <th>Source</th>\n",
       "      <th>Destination</th>\n",
       "      <th>Duration</th>\n",
       "      <th>Total stops</th>\n",
       "      <th>Price</th>\n",
       "      <th>Date</th>\n",
       "      <th>Average Price</th>\n",
       "      <th>Source_CCU</th>\n",
       "      <th>Source_DEL</th>\n",
       "      <th>Source_MAA</th>\n",
       "      <th>Destination_CCU</th>\n",
       "      <th>Destination_DEL</th>\n",
       "      <th>Destination_MAA</th>\n",
       "    </tr>\n",
       "  </thead>\n",
       "  <tbody>\n",
       "    <tr>\n",
       "      <th>0</th>\n",
       "      <td>BOM</td>\n",
       "      <td>CCU</td>\n",
       "      <td>185</td>\n",
       "      <td>0</td>\n",
       "      <td>8201.56</td>\n",
       "      <td>2022-07-12</td>\n",
       "      <td>7798.723077</td>\n",
       "      <td>0</td>\n",
       "      <td>0</td>\n",
       "      <td>0</td>\n",
       "      <td>1</td>\n",
       "      <td>0</td>\n",
       "      <td>0</td>\n",
       "    </tr>\n",
       "    <tr>\n",
       "      <th>1</th>\n",
       "      <td>BOM</td>\n",
       "      <td>CCU</td>\n",
       "      <td>185</td>\n",
       "      <td>0</td>\n",
       "      <td>7509.08</td>\n",
       "      <td>2022-07-12</td>\n",
       "      <td>7798.723077</td>\n",
       "      <td>0</td>\n",
       "      <td>0</td>\n",
       "      <td>0</td>\n",
       "      <td>1</td>\n",
       "      <td>0</td>\n",
       "      <td>0</td>\n",
       "    </tr>\n",
       "    <tr>\n",
       "      <th>2</th>\n",
       "      <td>BOM</td>\n",
       "      <td>CCU</td>\n",
       "      <td>165</td>\n",
       "      <td>0</td>\n",
       "      <td>8201.56</td>\n",
       "      <td>2022-08-12</td>\n",
       "      <td>7798.723077</td>\n",
       "      <td>0</td>\n",
       "      <td>0</td>\n",
       "      <td>0</td>\n",
       "      <td>1</td>\n",
       "      <td>0</td>\n",
       "      <td>0</td>\n",
       "    </tr>\n",
       "    <tr>\n",
       "      <th>3</th>\n",
       "      <td>BOM</td>\n",
       "      <td>CCU</td>\n",
       "      <td>165</td>\n",
       "      <td>0</td>\n",
       "      <td>7509.08</td>\n",
       "      <td>2022-08-12</td>\n",
       "      <td>7798.723077</td>\n",
       "      <td>0</td>\n",
       "      <td>0</td>\n",
       "      <td>0</td>\n",
       "      <td>1</td>\n",
       "      <td>0</td>\n",
       "      <td>0</td>\n",
       "    </tr>\n",
       "    <tr>\n",
       "      <th>4</th>\n",
       "      <td>BOM</td>\n",
       "      <td>CCU</td>\n",
       "      <td>185</td>\n",
       "      <td>0</td>\n",
       "      <td>7509.08</td>\n",
       "      <td>2022-08-12</td>\n",
       "      <td>7798.723077</td>\n",
       "      <td>0</td>\n",
       "      <td>0</td>\n",
       "      <td>0</td>\n",
       "      <td>1</td>\n",
       "      <td>0</td>\n",
       "      <td>0</td>\n",
       "    </tr>\n",
       "    <tr>\n",
       "      <th>...</th>\n",
       "      <td>...</td>\n",
       "      <td>...</td>\n",
       "      <td>...</td>\n",
       "      <td>...</td>\n",
       "      <td>...</td>\n",
       "      <td>...</td>\n",
       "      <td>...</td>\n",
       "      <td>...</td>\n",
       "      <td>...</td>\n",
       "      <td>...</td>\n",
       "      <td>...</td>\n",
       "      <td>...</td>\n",
       "      <td>...</td>\n",
       "    </tr>\n",
       "    <tr>\n",
       "      <th>1269</th>\n",
       "      <td>MAA</td>\n",
       "      <td>DEL</td>\n",
       "      <td>175</td>\n",
       "      <td>0</td>\n",
       "      <td>7530.72</td>\n",
       "      <td>2022-12-14</td>\n",
       "      <td>7859.167111</td>\n",
       "      <td>0</td>\n",
       "      <td>0</td>\n",
       "      <td>1</td>\n",
       "      <td>0</td>\n",
       "      <td>1</td>\n",
       "      <td>0</td>\n",
       "    </tr>\n",
       "    <tr>\n",
       "      <th>1270</th>\n",
       "      <td>MAA</td>\n",
       "      <td>DEL</td>\n",
       "      <td>175</td>\n",
       "      <td>0</td>\n",
       "      <td>7530.72</td>\n",
       "      <td>2022-12-14</td>\n",
       "      <td>7859.167111</td>\n",
       "      <td>0</td>\n",
       "      <td>0</td>\n",
       "      <td>1</td>\n",
       "      <td>0</td>\n",
       "      <td>1</td>\n",
       "      <td>0</td>\n",
       "    </tr>\n",
       "    <tr>\n",
       "      <th>1271</th>\n",
       "      <td>MAA</td>\n",
       "      <td>DEL</td>\n",
       "      <td>170</td>\n",
       "      <td>0</td>\n",
       "      <td>8158.28</td>\n",
       "      <td>2022-12-14</td>\n",
       "      <td>7859.167111</td>\n",
       "      <td>0</td>\n",
       "      <td>0</td>\n",
       "      <td>1</td>\n",
       "      <td>0</td>\n",
       "      <td>1</td>\n",
       "      <td>0</td>\n",
       "    </tr>\n",
       "    <tr>\n",
       "      <th>1272</th>\n",
       "      <td>MAA</td>\n",
       "      <td>DEL</td>\n",
       "      <td>185</td>\n",
       "      <td>0</td>\n",
       "      <td>7530.72</td>\n",
       "      <td>2022-12-14</td>\n",
       "      <td>7859.167111</td>\n",
       "      <td>0</td>\n",
       "      <td>0</td>\n",
       "      <td>1</td>\n",
       "      <td>0</td>\n",
       "      <td>1</td>\n",
       "      <td>0</td>\n",
       "    </tr>\n",
       "    <tr>\n",
       "      <th>1273</th>\n",
       "      <td>MAA</td>\n",
       "      <td>DEL</td>\n",
       "      <td>180</td>\n",
       "      <td>0</td>\n",
       "      <td>8158.28</td>\n",
       "      <td>2022-12-14</td>\n",
       "      <td>7859.167111</td>\n",
       "      <td>0</td>\n",
       "      <td>0</td>\n",
       "      <td>1</td>\n",
       "      <td>0</td>\n",
       "      <td>1</td>\n",
       "      <td>0</td>\n",
       "    </tr>\n",
       "  </tbody>\n",
       "</table>\n",
       "<p>1274 rows × 13 columns</p>\n",
       "</div>"
      ],
      "text/plain": [
       "     Source Destination  Duration  Total stops    Price       Date  \\\n",
       "0       BOM         CCU       185            0  8201.56 2022-07-12   \n",
       "1       BOM         CCU       185            0  7509.08 2022-07-12   \n",
       "2       BOM         CCU       165            0  8201.56 2022-08-12   \n",
       "3       BOM         CCU       165            0  7509.08 2022-08-12   \n",
       "4       BOM         CCU       185            0  7509.08 2022-08-12   \n",
       "...     ...         ...       ...          ...      ...        ...   \n",
       "1269    MAA         DEL       175            0  7530.72 2022-12-14   \n",
       "1270    MAA         DEL       175            0  7530.72 2022-12-14   \n",
       "1271    MAA         DEL       170            0  8158.28 2022-12-14   \n",
       "1272    MAA         DEL       185            0  7530.72 2022-12-14   \n",
       "1273    MAA         DEL       180            0  8158.28 2022-12-14   \n",
       "\n",
       "      Average Price  Source_CCU  Source_DEL  Source_MAA  Destination_CCU  \\\n",
       "0       7798.723077           0           0           0                1   \n",
       "1       7798.723077           0           0           0                1   \n",
       "2       7798.723077           0           0           0                1   \n",
       "3       7798.723077           0           0           0                1   \n",
       "4       7798.723077           0           0           0                1   \n",
       "...             ...         ...         ...         ...              ...   \n",
       "1269    7859.167111           0           0           1                0   \n",
       "1270    7859.167111           0           0           1                0   \n",
       "1271    7859.167111           0           0           1                0   \n",
       "1272    7859.167111           0           0           1                0   \n",
       "1273    7859.167111           0           0           1                0   \n",
       "\n",
       "      Destination_DEL  Destination_MAA  \n",
       "0                   0                0  \n",
       "1                   0                0  \n",
       "2                   0                0  \n",
       "3                   0                0  \n",
       "4                   0                0  \n",
       "...               ...              ...  \n",
       "1269                1                0  \n",
       "1270                1                0  \n",
       "1271                1                0  \n",
       "1272                1                0  \n",
       "1273                1                0  \n",
       "\n",
       "[1274 rows x 13 columns]"
      ]
     },
     "execution_count": 23,
     "metadata": {},
     "output_type": "execute_result"
    }
   ],
   "source": [
    "final_df"
   ]
  },
  {
   "cell_type": "code",
   "execution_count": 24,
   "id": "d355f042",
   "metadata": {},
   "outputs": [],
   "source": [
    "# drop date since it'll not be used as a feature\n",
    "final_df.drop([\"Source\",\"Destination\",\"Date\"], axis=1, inplace=True)"
   ]
  },
  {
   "cell_type": "code",
   "execution_count": 25,
   "id": "9a9fd545",
   "metadata": {},
   "outputs": [
    {
     "data": {
      "text/html": [
       "<div>\n",
       "<style scoped>\n",
       "    .dataframe tbody tr th:only-of-type {\n",
       "        vertical-align: middle;\n",
       "    }\n",
       "\n",
       "    .dataframe tbody tr th {\n",
       "        vertical-align: top;\n",
       "    }\n",
       "\n",
       "    .dataframe thead th {\n",
       "        text-align: right;\n",
       "    }\n",
       "</style>\n",
       "<table border=\"1\" class=\"dataframe\">\n",
       "  <thead>\n",
       "    <tr style=\"text-align: right;\">\n",
       "      <th></th>\n",
       "      <th>Duration</th>\n",
       "      <th>Total stops</th>\n",
       "      <th>Price</th>\n",
       "      <th>Average Price</th>\n",
       "      <th>Source_CCU</th>\n",
       "      <th>Source_DEL</th>\n",
       "      <th>Source_MAA</th>\n",
       "      <th>Destination_CCU</th>\n",
       "      <th>Destination_DEL</th>\n",
       "      <th>Destination_MAA</th>\n",
       "    </tr>\n",
       "  </thead>\n",
       "  <tbody>\n",
       "    <tr>\n",
       "      <th>0</th>\n",
       "      <td>185</td>\n",
       "      <td>0</td>\n",
       "      <td>8201.56</td>\n",
       "      <td>7798.723077</td>\n",
       "      <td>0</td>\n",
       "      <td>0</td>\n",
       "      <td>0</td>\n",
       "      <td>1</td>\n",
       "      <td>0</td>\n",
       "      <td>0</td>\n",
       "    </tr>\n",
       "    <tr>\n",
       "      <th>1</th>\n",
       "      <td>185</td>\n",
       "      <td>0</td>\n",
       "      <td>7509.08</td>\n",
       "      <td>7798.723077</td>\n",
       "      <td>0</td>\n",
       "      <td>0</td>\n",
       "      <td>0</td>\n",
       "      <td>1</td>\n",
       "      <td>0</td>\n",
       "      <td>0</td>\n",
       "    </tr>\n",
       "    <tr>\n",
       "      <th>2</th>\n",
       "      <td>165</td>\n",
       "      <td>0</td>\n",
       "      <td>8201.56</td>\n",
       "      <td>7798.723077</td>\n",
       "      <td>0</td>\n",
       "      <td>0</td>\n",
       "      <td>0</td>\n",
       "      <td>1</td>\n",
       "      <td>0</td>\n",
       "      <td>0</td>\n",
       "    </tr>\n",
       "    <tr>\n",
       "      <th>3</th>\n",
       "      <td>165</td>\n",
       "      <td>0</td>\n",
       "      <td>7509.08</td>\n",
       "      <td>7798.723077</td>\n",
       "      <td>0</td>\n",
       "      <td>0</td>\n",
       "      <td>0</td>\n",
       "      <td>1</td>\n",
       "      <td>0</td>\n",
       "      <td>0</td>\n",
       "    </tr>\n",
       "    <tr>\n",
       "      <th>4</th>\n",
       "      <td>185</td>\n",
       "      <td>0</td>\n",
       "      <td>7509.08</td>\n",
       "      <td>7798.723077</td>\n",
       "      <td>0</td>\n",
       "      <td>0</td>\n",
       "      <td>0</td>\n",
       "      <td>1</td>\n",
       "      <td>0</td>\n",
       "      <td>0</td>\n",
       "    </tr>\n",
       "    <tr>\n",
       "      <th>...</th>\n",
       "      <td>...</td>\n",
       "      <td>...</td>\n",
       "      <td>...</td>\n",
       "      <td>...</td>\n",
       "      <td>...</td>\n",
       "      <td>...</td>\n",
       "      <td>...</td>\n",
       "      <td>...</td>\n",
       "      <td>...</td>\n",
       "      <td>...</td>\n",
       "    </tr>\n",
       "    <tr>\n",
       "      <th>1269</th>\n",
       "      <td>175</td>\n",
       "      <td>0</td>\n",
       "      <td>7530.72</td>\n",
       "      <td>7859.167111</td>\n",
       "      <td>0</td>\n",
       "      <td>0</td>\n",
       "      <td>1</td>\n",
       "      <td>0</td>\n",
       "      <td>1</td>\n",
       "      <td>0</td>\n",
       "    </tr>\n",
       "    <tr>\n",
       "      <th>1270</th>\n",
       "      <td>175</td>\n",
       "      <td>0</td>\n",
       "      <td>7530.72</td>\n",
       "      <td>7859.167111</td>\n",
       "      <td>0</td>\n",
       "      <td>0</td>\n",
       "      <td>1</td>\n",
       "      <td>0</td>\n",
       "      <td>1</td>\n",
       "      <td>0</td>\n",
       "    </tr>\n",
       "    <tr>\n",
       "      <th>1271</th>\n",
       "      <td>170</td>\n",
       "      <td>0</td>\n",
       "      <td>8158.28</td>\n",
       "      <td>7859.167111</td>\n",
       "      <td>0</td>\n",
       "      <td>0</td>\n",
       "      <td>1</td>\n",
       "      <td>0</td>\n",
       "      <td>1</td>\n",
       "      <td>0</td>\n",
       "    </tr>\n",
       "    <tr>\n",
       "      <th>1272</th>\n",
       "      <td>185</td>\n",
       "      <td>0</td>\n",
       "      <td>7530.72</td>\n",
       "      <td>7859.167111</td>\n",
       "      <td>0</td>\n",
       "      <td>0</td>\n",
       "      <td>1</td>\n",
       "      <td>0</td>\n",
       "      <td>1</td>\n",
       "      <td>0</td>\n",
       "    </tr>\n",
       "    <tr>\n",
       "      <th>1273</th>\n",
       "      <td>180</td>\n",
       "      <td>0</td>\n",
       "      <td>8158.28</td>\n",
       "      <td>7859.167111</td>\n",
       "      <td>0</td>\n",
       "      <td>0</td>\n",
       "      <td>1</td>\n",
       "      <td>0</td>\n",
       "      <td>1</td>\n",
       "      <td>0</td>\n",
       "    </tr>\n",
       "  </tbody>\n",
       "</table>\n",
       "<p>1274 rows × 10 columns</p>\n",
       "</div>"
      ],
      "text/plain": [
       "      Duration  Total stops    Price  Average Price  Source_CCU  Source_DEL  \\\n",
       "0          185            0  8201.56    7798.723077           0           0   \n",
       "1          185            0  7509.08    7798.723077           0           0   \n",
       "2          165            0  8201.56    7798.723077           0           0   \n",
       "3          165            0  7509.08    7798.723077           0           0   \n",
       "4          185            0  7509.08    7798.723077           0           0   \n",
       "...        ...          ...      ...            ...         ...         ...   \n",
       "1269       175            0  7530.72    7859.167111           0           0   \n",
       "1270       175            0  7530.72    7859.167111           0           0   \n",
       "1271       170            0  8158.28    7859.167111           0           0   \n",
       "1272       185            0  7530.72    7859.167111           0           0   \n",
       "1273       180            0  8158.28    7859.167111           0           0   \n",
       "\n",
       "      Source_MAA  Destination_CCU  Destination_DEL  Destination_MAA  \n",
       "0              0                1                0                0  \n",
       "1              0                1                0                0  \n",
       "2              0                1                0                0  \n",
       "3              0                1                0                0  \n",
       "4              0                1                0                0  \n",
       "...          ...              ...              ...              ...  \n",
       "1269           1                0                1                0  \n",
       "1270           1                0                1                0  \n",
       "1271           1                0                1                0  \n",
       "1272           1                0                1                0  \n",
       "1273           1                0                1                0  \n",
       "\n",
       "[1274 rows x 10 columns]"
      ]
     },
     "execution_count": 25,
     "metadata": {},
     "output_type": "execute_result"
    }
   ],
   "source": [
    "final_df"
   ]
  },
  {
   "cell_type": "code",
   "execution_count": 26,
   "id": "effaf37b",
   "metadata": {},
   "outputs": [
    {
     "data": {
      "text/plain": [
       "(1274, 10)"
      ]
     },
     "execution_count": 26,
     "metadata": {},
     "output_type": "execute_result"
    }
   ],
   "source": [
    "final_df.shape"
   ]
  },
  {
   "cell_type": "code",
   "execution_count": 27,
   "id": "84e23eeb",
   "metadata": {},
   "outputs": [
    {
     "data": {
      "text/plain": [
       "Duration           0\n",
       "Total stops        0\n",
       "Price              0\n",
       "Average Price      0\n",
       "Source_CCU         0\n",
       "Source_DEL         0\n",
       "Source_MAA         0\n",
       "Destination_CCU    0\n",
       "Destination_DEL    0\n",
       "Destination_MAA    0\n",
       "dtype: int64"
      ]
     },
     "execution_count": 27,
     "metadata": {},
     "output_type": "execute_result"
    }
   ],
   "source": [
    "final_df.isnull().sum()"
   ]
  },
  {
   "cell_type": "markdown",
   "id": "3bb4cc31",
   "metadata": {},
   "source": [
    "# Features\n",
    "\n",
    "#### After constructing the final dataframe with all numerical values, now we can analyze the features that will be used for the regressions models"
   ]
  },
  {
   "cell_type": "code",
   "execution_count": 28,
   "id": "fcb3ac7e",
   "metadata": {},
   "outputs": [
    {
     "data": {
      "text/plain": [
       "Index(['Duration', 'Total stops', 'Price', 'Average Price', 'Source_CCU',\n",
       "       'Source_DEL', 'Source_MAA', 'Destination_CCU', 'Destination_DEL',\n",
       "       'Destination_MAA'],\n",
       "      dtype='object')"
      ]
     },
     "execution_count": 28,
     "metadata": {},
     "output_type": "execute_result"
    }
   ],
   "source": [
    "final_df.columns"
   ]
  },
  {
   "cell_type": "code",
   "execution_count": 29,
   "id": "3f09553b",
   "metadata": {},
   "outputs": [],
   "source": [
    "X = final_df[['Duration', 'Total stops', 'Average Price',\n",
    "       'Source_CCU', 'Source_DEL','Source_MAA' ,'Destination_CCU', 'Destination_DEL','Destination_MAA']]\n",
    "\n",
    "y = final_df[\"Price\"]"
   ]
  },
  {
   "cell_type": "code",
   "execution_count": 58,
   "id": "171a2e43",
   "metadata": {},
   "outputs": [
    {
     "data": {
      "image/png": "[encoded data removed]",
      "text/plain": [
       "<Figure size 576x576 with 2 Axes>"
      ]
     },
     "metadata": {},
     "output_type": "display_data"
    }
   ],
   "source": [
    "plt.figure(figsize = (8,8))\n",
    "\n",
    "sns.heatmap(final_df.corr(),annot= True, cmap = \"coolwarm\")\n",
    "\n",
    "plt.show()"
   ]
  },
  {
   "cell_type": "code",
   "execution_count": 31,
   "id": "8d559573",
   "metadata": {},
   "outputs": [
    {
     "data": {
      "text/plain": [
       "array([0.06805055, 0.02793724, 0.63152709, 0.12198146, 0.04836047,\n",
       "       0.00607985, 0.02328687, 0.02621943, 0.04655704])"
      ]
     },
     "execution_count": 31,
     "metadata": {},
     "output_type": "execute_result"
    }
   ],
   "source": [
    "# getting feature importance to the target variable \"Price\".\n",
    "selection =ExtraTreesRegressor()\n",
    "selection.fit(X,y)\n",
    "selection.feature_importances_"
   ]
  },
  {
   "cell_type": "code",
   "execution_count": 32,
   "id": "baf28d62",
   "metadata": {},
   "outputs": [
    {
     "data": {
      "image/png": "[encoded data removed]",
      "text/plain": [
       "<Figure size 864x576 with 1 Axes>"
      ]
     },
     "metadata": {},
     "output_type": "display_data"
    }
   ],
   "source": [
    "# plotting graph of important features\n",
    "plt.figure(figsize = (12,8))\n",
    "feat_importances = pd.Series(selection.feature_importances_,index = X.columns)\n",
    "feat_importances.nlargest(20).plot(kind=\"barh\")\n",
    "plt.show()"
   ]
  },
  {
   "cell_type": "markdown",
   "id": "c6746435",
   "metadata": {},
   "source": [
    "## Modelling\n",
    "\n",
    "### Splitting the data"
   ]
  },
  {
   "cell_type": "code",
   "execution_count": 33,
   "id": "87c2740a",
   "metadata": {},
   "outputs": [],
   "source": [
    "# 60% Train - 20% Val - 20% Test\n",
    "\n",
    "X_train_or, X_test, y_train_or, y_test = train_test_split(X, y, test_size=0.2)\n",
    "X_train, X_val, y_train, y_val = train_test_split(X_train_or, y_train_or, test_size=0.25)"
   ]
  },
  {
   "cell_type": "markdown",
   "id": "839b48e6",
   "metadata": {},
   "source": [
    "### Defining a function to get metrics for val set"
   ]
  },
  {
   "cell_type": "code",
   "execution_count": 34,
   "id": "cf470a8f",
   "metadata": {},
   "outputs": [],
   "source": [
    "def get_metrics(model):\n",
    "    print(f'Train score {model.score(X_train, y_train)}')\n",
    "    print(f'Val score {model.score(X_val, y_val)}')\n",
    "    print(\"MAE:\" , metrics.mean_absolute_error(y_val,model.predict(X_val)))\n",
    "    print(\"MSE:\" , metrics.mean_squared_error(y_val,model.predict(X_val)))\n",
    "    print(\"RMSE:\" , np.sqrt(metrics.mean_squared_error(y_val,model.predict(X_val))))"
   ]
  },
  {
   "cell_type": "markdown",
   "id": "d0fcfabc",
   "metadata": {},
   "source": [
    "### Baseline Linear Regression"
   ]
  },
  {
   "cell_type": "code",
   "execution_count": 35,
   "id": "3613f115",
   "metadata": {},
   "outputs": [
    {
     "name": "stdout",
     "output_type": "stream",
     "text": [
      "Train score 0.8364417071089952\n",
      "Val score 0.7239441203976347\n",
      "MAE: 707.9231608620246\n",
      "MSE: 1387344.9934605276\n",
      "RMSE: 1177.8561004895835\n"
     ]
    }
   ],
   "source": [
    "lr = LinearRegression()\n",
    "lr.fit(X_train, y_train)\n",
    "score = lr.score(X_val, y_val)\n",
    "get_metrics(lr)"
   ]
  },
  {
   "cell_type": "markdown",
   "id": "20c6454f",
   "metadata": {},
   "source": [
    "### Polynomial "
   ]
  },
  {
   "cell_type": "code",
   "execution_count": 36,
   "id": "265f4fef",
   "metadata": {},
   "outputs": [
    {
     "name": "stdout",
     "output_type": "stream",
     "text": [
      "--------------------\n",
      "Degree 1\n",
      "Train score 0.8364417071089952\n",
      "Val score 0.7239441203976344\n",
      "MAE: 707.9231608620236\n",
      "MSE: 1387344.993460529\n",
      "RMSE: 1177.856100489584\n",
      "--------------------\n",
      "Degree 2\n",
      "Train score 0.8670681679506083\n",
      "Val score 0.7881731283704589\n",
      "MAE: 644.370955485528\n",
      "MSE: 1064556.0248850845\n",
      "RMSE: 1031.7732429584926\n",
      "--------------------\n",
      "Degree 3\n",
      "Train score 0.8970931598333979\n",
      "Val score -128.18408443475812\n",
      "MAE: 2637.200066886663\n",
      "MSE: 649226863.1753064\n",
      "RMSE: 25479.93059596722\n",
      "--------------------\n",
      "Degree 4\n",
      "Train score 0.9009610642650153\n",
      "Val score -975.1458831125387\n",
      "MAE: 6808.970763155158\n",
      "MSE: 4905713675.702064\n",
      "RMSE: 70040.8000789687\n",
      "--------------------\n",
      "Degree 5\n",
      "Train score 0.9046451794185826\n",
      "Val score -252.56330092207128\n",
      "MAE: 4504.378804997782\n",
      "MSE: 1274306406.9719114\n",
      "RMSE: 35697.42857646628\n"
     ]
    }
   ],
   "source": [
    "for degree in [1,2,3,4,5]:\n",
    "    poly = make_pipeline(PolynomialFeatures(degree), LinearRegression())\n",
    "    poly.fit(X_train, y_train)\n",
    "    print(\"-\"*20)\n",
    "    print(\"Degree\", degree)\n",
    "    get_metrics(poly)"
   ]
  },
  {
   "cell_type": "markdown",
   "id": "3f7d82a0",
   "metadata": {},
   "source": [
    "### Lasso"
   ]
  },
  {
   "cell_type": "code",
   "execution_count": 37,
   "id": "ba6e9bd8",
   "metadata": {},
   "outputs": [
    {
     "name": "stdout",
     "output_type": "stream",
     "text": [
      "Train score 0.8364142983650408\n",
      "Val score 0.7232894734202764\n",
      "MAE: 707.1451902178464\n",
      "MSE: 1390634.9839067743\n",
      "RMSE: 1179.2518746674834\n"
     ]
    }
   ],
   "source": [
    "lasso_model = Lasso()\n",
    "lasso_model.fit(X_train, y_train)\n",
    "get_metrics(lasso_model)"
   ]
  },
  {
   "cell_type": "markdown",
   "id": "174ec11b",
   "metadata": {},
   "source": [
    "### Ridge"
   ]
  },
  {
   "cell_type": "code",
   "execution_count": 38,
   "id": "5c13c6f0",
   "metadata": {},
   "outputs": [
    {
     "name": "stdout",
     "output_type": "stream",
     "text": [
      "Train score 0.8364403584534688\n",
      "Val score 0.7238216467966605\n",
      "MAE: 707.9228840619029\n",
      "MSE: 1387960.4961529078\n",
      "RMSE: 1178.1173524538665\n"
     ]
    }
   ],
   "source": [
    "ridge_model = Ridge()\n",
    "ridge_model.fit(X_train, y_train)\n",
    "get_metrics(ridge_model)"
   ]
  },
  {
   "cell_type": "markdown",
   "id": "105e3a8a",
   "metadata": {},
   "source": [
    "### ElasticNet"
   ]
  },
  {
   "cell_type": "code",
   "execution_count": 39,
   "id": "a2f24e90",
   "metadata": {},
   "outputs": [
    {
     "name": "stdout",
     "output_type": "stream",
     "text": [
      "Train score 0.8352313927176611\n",
      "Val score 0.720384023411054\n",
      "MAE: 711.0901877445525\n",
      "MSE: 1405236.5983692182\n",
      "RMSE: 1185.4267579100863\n"
     ]
    }
   ],
   "source": [
    "EN_model = ElasticNet(alpha=1)\n",
    "EN_model.fit(X_train, y_train)\n",
    "EN_model.score(X_val, y_val)\n",
    "get_metrics(EN_model)"
   ]
  },
  {
   "cell_type": "markdown",
   "id": "3c6139df",
   "metadata": {},
   "source": [
    "### Random Forest Classifier"
   ]
  },
  {
   "cell_type": "code",
   "execution_count": 40,
   "id": "459e8756",
   "metadata": {},
   "outputs": [
    {
     "name": "stdout",
     "output_type": "stream",
     "text": [
      "Train score 0.9306588865717303\n",
      "Val score 0.8105352800329884\n",
      "MAE: 580.3986229113293\n",
      "MSE: 952172.9117389253\n",
      "RMSE: 975.7934780161862\n"
     ]
    }
   ],
   "source": [
    "rf = RandomForestRegressor()\n",
    "rf.fit(X_train,y_train)\n",
    "get_metrics(rf)"
   ]
  },
  {
   "cell_type": "markdown",
   "id": "a69fe9db",
   "metadata": {},
   "source": [
    "### Feature Scaling"
   ]
  },
  {
   "cell_type": "code",
   "execution_count": 41,
   "id": "373a2a63",
   "metadata": {},
   "outputs": [],
   "source": [
    "scaler = StandardScaler()\n",
    "\n",
    "X_train_scaled = scaler.fit_transform(X_train.values)\n",
    "X_val_scaled = scaler.transform(X_val.values)\n",
    "X_test_scaled = scaler.transform(X_test.values)"
   ]
  },
  {
   "cell_type": "code",
   "execution_count": 42,
   "id": "6f60fafe",
   "metadata": {},
   "outputs": [
    {
     "name": "stdout",
     "output_type": "stream",
     "text": [
      "LR\n",
      "Train score 0.8364417071089952\n",
      "Val score 0.723944120397634\n",
      "MAE: 707.9231608620236\n",
      "MSE: 1387344.9934605309\n",
      "RMSE: 1177.8561004895848\n",
      "--------------------------------------------------\n",
      "Polynomial - Degree 1\n",
      "Train score -8.673791835166965\n",
      "Val score -8.21876201978772\n",
      "MAE: 6427.631019783859\n",
      "MSE: 46329762.483156934\n",
      "RMSE: 6806.596982571903\n",
      "--------------------------------------------------\n",
      "Polynomial - Degree 2\n",
      "Train score -23.656262955762898\n",
      "Val score -20.24174439398308\n",
      "MAE: 7947.506672257326\n",
      "MSE: 106752400.20176026\n",
      "RMSE: 10332.105313137312\n",
      "--------------------------------------------------\n",
      "Polynomial - Degree 3\n",
      "Train score -314176.4198896982\n",
      "Val score -161608.28233253837\n",
      "MAE: 474661.26974045835\n",
      "MSE: 812182769168.8655\n",
      "RMSE: 901211.8336822179\n",
      "--------------------------------------------------\n"
     ]
    },
    {
     "name": "stderr",
     "output_type": "stream",
     "text": [
      "c:\\users\\shantanu\\appdata\\local\\programs\\python\\python39\\lib\\site-packages\\sklearn\\base.py:445: UserWarning: X does not have valid feature names, but PolynomialFeatures was fitted with feature names\n",
      "  warnings.warn(\n",
      "c:\\users\\shantanu\\appdata\\local\\programs\\python\\python39\\lib\\site-packages\\sklearn\\base.py:445: UserWarning: X does not have valid feature names, but PolynomialFeatures was fitted with feature names\n",
      "  warnings.warn(\n",
      "c:\\users\\shantanu\\appdata\\local\\programs\\python\\python39\\lib\\site-packages\\sklearn\\base.py:445: UserWarning: X does not have valid feature names, but PolynomialFeatures was fitted with feature names\n",
      "  warnings.warn(\n",
      "c:\\users\\shantanu\\appdata\\local\\programs\\python\\python39\\lib\\site-packages\\sklearn\\base.py:445: UserWarning: X does not have valid feature names, but PolynomialFeatures was fitted with feature names\n",
      "  warnings.warn(\n",
      "c:\\users\\shantanu\\appdata\\local\\programs\\python\\python39\\lib\\site-packages\\sklearn\\base.py:445: UserWarning: X does not have valid feature names, but PolynomialFeatures was fitted with feature names\n",
      "  warnings.warn(\n",
      "c:\\users\\shantanu\\appdata\\local\\programs\\python\\python39\\lib\\site-packages\\sklearn\\base.py:445: UserWarning: X does not have valid feature names, but PolynomialFeatures was fitted with feature names\n",
      "  warnings.warn(\n",
      "c:\\users\\shantanu\\appdata\\local\\programs\\python\\python39\\lib\\site-packages\\sklearn\\base.py:445: UserWarning: X does not have valid feature names, but PolynomialFeatures was fitted with feature names\n",
      "  warnings.warn(\n",
      "c:\\users\\shantanu\\appdata\\local\\programs\\python\\python39\\lib\\site-packages\\sklearn\\base.py:445: UserWarning: X does not have valid feature names, but PolynomialFeatures was fitted with feature names\n",
      "  warnings.warn(\n",
      "c:\\users\\shantanu\\appdata\\local\\programs\\python\\python39\\lib\\site-packages\\sklearn\\base.py:445: UserWarning: X does not have valid feature names, but PolynomialFeatures was fitted with feature names\n",
      "  warnings.warn(\n",
      "c:\\users\\shantanu\\appdata\\local\\programs\\python\\python39\\lib\\site-packages\\sklearn\\base.py:445: UserWarning: X does not have valid feature names, but PolynomialFeatures was fitted with feature names\n",
      "  warnings.warn(\n",
      "c:\\users\\shantanu\\appdata\\local\\programs\\python\\python39\\lib\\site-packages\\sklearn\\base.py:445: UserWarning: X does not have valid feature names, but PolynomialFeatures was fitted with feature names\n",
      "  warnings.warn(\n",
      "c:\\users\\shantanu\\appdata\\local\\programs\\python\\python39\\lib\\site-packages\\sklearn\\base.py:445: UserWarning: X does not have valid feature names, but PolynomialFeatures was fitted with feature names\n",
      "  warnings.warn(\n",
      "c:\\users\\shantanu\\appdata\\local\\programs\\python\\python39\\lib\\site-packages\\sklearn\\base.py:445: UserWarning: X does not have valid feature names, but PolynomialFeatures was fitted with feature names\n",
      "  warnings.warn(\n",
      "c:\\users\\shantanu\\appdata\\local\\programs\\python\\python39\\lib\\site-packages\\sklearn\\base.py:445: UserWarning: X does not have valid feature names, but PolynomialFeatures was fitted with feature names\n",
      "  warnings.warn(\n",
      "c:\\users\\shantanu\\appdata\\local\\programs\\python\\python39\\lib\\site-packages\\sklearn\\base.py:445: UserWarning: X does not have valid feature names, but PolynomialFeatures was fitted with feature names\n",
      "  warnings.warn(\n"
     ]
    },
    {
     "name": "stdout",
     "output_type": "stream",
     "text": [
      "Polynomial - Degree 4\n",
      "Train score -743.4374860756762\n",
      "Val score -700.147804266484\n",
      "MAE: 59323.25503025474\n",
      "MSE: 3523684760.223501\n",
      "RMSE: 59360.63308475998\n",
      "--------------------------------------------------\n"
     ]
    },
    {
     "name": "stderr",
     "output_type": "stream",
     "text": [
      "c:\\users\\shantanu\\appdata\\local\\programs\\python\\python39\\lib\\site-packages\\sklearn\\base.py:445: UserWarning: X does not have valid feature names, but PolynomialFeatures was fitted with feature names\n",
      "  warnings.warn(\n",
      "c:\\users\\shantanu\\appdata\\local\\programs\\python\\python39\\lib\\site-packages\\sklearn\\base.py:445: UserWarning: X does not have valid feature names, but PolynomialFeatures was fitted with feature names\n",
      "  warnings.warn(\n",
      "c:\\users\\shantanu\\appdata\\local\\programs\\python\\python39\\lib\\site-packages\\sklearn\\base.py:445: UserWarning: X does not have valid feature names, but PolynomialFeatures was fitted with feature names\n",
      "  warnings.warn(\n",
      "c:\\users\\shantanu\\appdata\\local\\programs\\python\\python39\\lib\\site-packages\\sklearn\\base.py:445: UserWarning: X does not have valid feature names, but PolynomialFeatures was fitted with feature names\n",
      "  warnings.warn(\n",
      "c:\\users\\shantanu\\appdata\\local\\programs\\python\\python39\\lib\\site-packages\\sklearn\\base.py:445: UserWarning: X does not have valid feature names, but PolynomialFeatures was fitted with feature names\n",
      "  warnings.warn(\n"
     ]
    },
    {
     "name": "stdout",
     "output_type": "stream",
     "text": [
      "Polynomial - Degree 5\n",
      "Train score -10.069739508788937\n",
      "Val score -9.517506839927881\n",
      "MAE: 6916.0019369995425\n",
      "MSE: 52856727.69976305\n",
      "RMSE: 7270.263248312474\n",
      "--------------------------------------------------\n",
      "Lasso\n",
      "Train score 0.8364371745445791\n",
      "Val score 0.7238074946796924\n",
      "MAE: 707.7514660433526\n",
      "MSE: 1388031.6189583729\n",
      "RMSE: 1178.1475370081512\n",
      "--------------------------------------------------\n",
      "Ridge\n",
      "Train score 0.836438815718306\n",
      "Val score 0.7243504749836323\n",
      "MAE: 708.1774817700123\n",
      "MSE: 1385302.8199655616\n",
      "RMSE: 1176.988878437499\n",
      "--------------------------------------------------\n",
      "ElasticNet\n",
      "Train score 0.755928530059562\n",
      "Val score 0.6955417586983894\n",
      "MAE: 897.1222270218343\n",
      "MSE: 1530083.754767336\n",
      "RMSE: 1236.965543080055\n",
      "--------------------------------------------------\n"
     ]
    },
    {
     "name": "stderr",
     "output_type": "stream",
     "text": [
      "c:\\users\\shantanu\\appdata\\local\\programs\\python\\python39\\lib\\site-packages\\sklearn\\base.py:445: UserWarning: X does not have valid feature names, but PolynomialFeatures was fitted with feature names\n",
      "  warnings.warn(\n",
      "c:\\users\\shantanu\\appdata\\local\\programs\\python\\python39\\lib\\site-packages\\sklearn\\base.py:445: UserWarning: X does not have valid feature names, but PolynomialFeatures was fitted with feature names\n",
      "  warnings.warn(\n",
      "c:\\users\\shantanu\\appdata\\local\\programs\\python\\python39\\lib\\site-packages\\sklearn\\base.py:445: UserWarning: X does not have valid feature names, but PolynomialFeatures was fitted with feature names\n",
      "  warnings.warn(\n",
      "c:\\users\\shantanu\\appdata\\local\\programs\\python\\python39\\lib\\site-packages\\sklearn\\base.py:445: UserWarning: X does not have valid feature names, but PolynomialFeatures was fitted with feature names\n",
      "  warnings.warn(\n",
      "c:\\users\\shantanu\\appdata\\local\\programs\\python\\python39\\lib\\site-packages\\sklearn\\base.py:445: UserWarning: X does not have valid feature names, but PolynomialFeatures was fitted with feature names\n",
      "  warnings.warn(\n"
     ]
    },
    {
     "name": "stdout",
     "output_type": "stream",
     "text": [
      "Random Forest\n",
      "Train score -3.6607354114291732\n",
      "Val score -3.46567364450722\n",
      "MAE: 4180.86242666667\n",
      "MSE: 22442666.25315027\n",
      "RMSE: 4737.369127812426\n"
     ]
    },
    {
     "name": "stderr",
     "output_type": "stream",
     "text": [
      "c:\\users\\shantanu\\appdata\\local\\programs\\python\\python39\\lib\\site-packages\\sklearn\\base.py:445: UserWarning: X does not have valid feature names, but RandomForestRegressor was fitted with feature names\n",
      "  warnings.warn(\n",
      "c:\\users\\shantanu\\appdata\\local\\programs\\python\\python39\\lib\\site-packages\\sklearn\\base.py:445: UserWarning: X does not have valid feature names, but RandomForestRegressor was fitted with feature names\n",
      "  warnings.warn(\n",
      "c:\\users\\shantanu\\appdata\\local\\programs\\python\\python39\\lib\\site-packages\\sklearn\\base.py:445: UserWarning: X does not have valid feature names, but RandomForestRegressor was fitted with feature names\n",
      "  warnings.warn(\n",
      "c:\\users\\shantanu\\appdata\\local\\programs\\python\\python39\\lib\\site-packages\\sklearn\\base.py:445: UserWarning: X does not have valid feature names, but RandomForestRegressor was fitted with feature names\n",
      "  warnings.warn(\n",
      "c:\\users\\shantanu\\appdata\\local\\programs\\python\\python39\\lib\\site-packages\\sklearn\\base.py:445: UserWarning: X does not have valid feature names, but RandomForestRegressor was fitted with feature names\n",
      "  warnings.warn(\n"
     ]
    }
   ],
   "source": [
    "# function to get metrics for scaled features\n",
    "def scaled_metrics(model):\n",
    "    print(f'Train score {model.score(X_train_scaled, y_train)}')\n",
    "    print(f'Val score {model.score(X_val_scaled, y_val)}')\n",
    "    print(\"MAE:\" , metrics.mean_absolute_error(y_val,model.predict(X_val_scaled)))\n",
    "    print(\"MSE:\" , metrics.mean_squared_error(y_val,model.predict(X_val_scaled)))\n",
    "    print(\"RMSE:\" , np.sqrt(metrics.mean_squared_error(y_val,model.predict(X_val_scaled))))\n",
    "\n",
    "    \n",
    "## Baseline: Linear Regression\n",
    "\n",
    "lr = LinearRegression()\n",
    "lr.fit(X_train_scaled, y_train)\n",
    "score = lr.score(X_val_scaled, y_val)\n",
    "print(\"LR\")\n",
    "scaled_metrics(lr)\n",
    "print(\"-\"*50)\n",
    "\n",
    "## Polynomial\n",
    "\n",
    "for degree in [1,2,3,4,5]:\n",
    "    poly = make_pipeline(PolynomialFeatures(degree), LinearRegression())\n",
    "    poly.fit(X_train, y_train)\n",
    "    print(\"Polynomial - Degree\", degree)\n",
    "    scaled_metrics(poly)\n",
    "    print(\"-\"*50)\n",
    "\n",
    "## Lasso\n",
    "\n",
    "lasso_model = Lasso()\n",
    "lasso_model.fit(X_train_scaled, y_train)\n",
    "print(\"Lasso\")\n",
    "scaled_metrics(lasso_model)\n",
    "print(\"-\"*50)\n",
    "\n",
    "## Ridge\n",
    "\n",
    "ridge_model = Ridge()\n",
    "ridge_model.fit(X_train_scaled, y_train)\n",
    "print(\"Ridge\")\n",
    "scaled_metrics(ridge_model)\n",
    "print(\"-\"*50)\n",
    "\n",
    "## ElasticNet\n",
    "\n",
    "EN_model = ElasticNet(alpha=1)\n",
    "EN_model.fit(X_train_scaled, y_train)\n",
    "EN_model.score(X_val_scaled, y_val)\n",
    "print(\"ElasticNet\")\n",
    "scaled_metrics(EN_model)\n",
    "print(\"-\"*50)\n",
    "\n",
    "## Random Forest\n",
    "rf = RandomForestRegressor()\n",
    "rf.fit(X_train,y_train)\n",
    "print(\"Random Forest\")\n",
    "scaled_metrics(rf)"
   ]
  },
  {
   "cell_type": "markdown",
   "id": "e574c709",
   "metadata": {},
   "source": [
    "#### Feature scaling was of no use, it did not improve anything"
   ]
  },
  {
   "cell_type": "markdown",
   "id": "1cf54f2d",
   "metadata": {},
   "source": [
    "**<br>From the above analysis, we can see that the random forest model performed the best with:</br>**\n",
    "\n",
    "**<br>Train score 0.9306588865717303</br>**\n",
    "**<br>Val score 0.81053528003298843</br>**\n",
    "**<br>MAE: 580.3986229113293</br>**\n",
    "**<br>MSE: 952172.9117389253</br>**\n",
    "**<br>RMSE: 975.7934780161862</br>**\n",
    "\n",
    "**So, we'll select it as our model.**"
   ]
  },
  {
   "cell_type": "code",
   "execution_count": 43,
   "id": "5fc099bf",
   "metadata": {},
   "outputs": [
    {
     "name": "stdout",
     "output_type": "stream",
     "text": [
      "Train score 0.910982969610942\n",
      "Test score 0.8614793041616288\n",
      "MAE: 475.3232330311561\n",
      "MSE: 571583.4851074062\n",
      "RMSE: 756.0314048420252\n"
     ]
    }
   ],
   "source": [
    "# retraining the random forest model on train + val, and scoring on test\n",
    "\n",
    "X_train_val = pd.concat([X_train,X_val])\n",
    "y_train_val = pd.concat([y_train,y_val])\n",
    "\n",
    "rf = RandomForestRegressor()\n",
    "rf.fit(X_train_val,y_train_val)\n",
    "\n",
    "print(f'Train score {rf.score(X_train_val, y_train_val)}')\n",
    "print(f'Test score {rf.score(X_test, y_test)}')\n",
    "print(\"MAE:\" , metrics.mean_absolute_error(y_test,rf.predict(X_test)))\n",
    "print(\"MSE:\" , metrics.mean_squared_error(y_test,rf.predict(X_test)))\n",
    "print(\"RMSE:\" , np.sqrt(metrics.mean_squared_error(y_test,rf.predict(X_test))))"
   ]
  },
  {
   "cell_type": "code",
   "execution_count": 44,
   "id": "4ab7d426",
   "metadata": {},
   "outputs": [],
   "source": [
    "y_train_val_pred = rf.predict(X_train_val)\n",
    "y_test_pred = rf.predict(X_test)"
   ]
  },
  {
   "cell_type": "code",
   "execution_count": 45,
   "id": "6ae532f6",
   "metadata": {},
   "outputs": [
    {
     "data": {
      "image/png": "[encoded data removed]",
      "text/plain": [
       "<Figure size 432x288 with 1 Axes>"
      ]
     },
     "metadata": {},
     "output_type": "display_data"
    }
   ],
   "source": [
    "plt.scatter(y_test,y_test_pred,alpha =0.2,color=\"DarkBlue\")\n",
    "plt.title('Actual vs. Predicted Airline Prices')\n",
    "plt.xlabel('Predicted Airline Prices')\n",
    "plt.ylabel('Actual Airline Prices');"
   ]
  },
  {
   "cell_type": "markdown",
   "id": "5d1b3eed",
   "metadata": {},
   "source": [
    "### Hyperparameter Tuning"
   ]
  },
  {
   "cell_type": "code",
   "execution_count": 46,
   "id": "c61525eb",
   "metadata": {},
   "outputs": [],
   "source": [
    "# randomized search CV\n",
    "\n",
    "n_estimators = [int(x) for x in np.linspace(start = 100, stop = 1200, num = 12)]\n",
    "max_features = ['auto', 'sqrt']\n",
    "max_depth = [int(x) for x in np.linspace(5, 30, num = 6)]\n",
    "min_samples_split = [2, 5, 10, 15, 100]\n",
    "min_samples_leaf = [1, 2, 5, 10]"
   ]
  },
  {
   "cell_type": "code",
   "execution_count": 47,
   "id": "8de86ad4",
   "metadata": {},
   "outputs": [],
   "source": [
    "# create the random grid\n",
    "\n",
    "random_grid = {'n_estimators': n_estimators,\n",
    "               'max_features': max_features,\n",
    "               'max_depth': max_depth,\n",
    "               'min_samples_split': min_samples_split,\n",
    "               'min_samples_leaf': min_samples_leaf}"
   ]
  },
  {
   "cell_type": "code",
   "execution_count": 48,
   "id": "fe8ae40a",
   "metadata": {},
   "outputs": [],
   "source": [
    "rf_random = RandomizedSearchCV(estimator = rf, param_distributions = random_grid,scoring='neg_mean_squared_error', n_iter = 10, cv = 5, verbose=2, n_jobs = 1)"
   ]
  },
  {
   "cell_type": "code",
   "execution_count": 49,
   "id": "39bf3cb4",
   "metadata": {},
   "outputs": [
    {
     "name": "stdout",
     "output_type": "stream",
     "text": [
      "Fitting 5 folds for each of 10 candidates, totalling 50 fits\n",
      "[CV] END max_depth=15, max_features=sqrt, min_samples_leaf=1, min_samples_split=15, n_estimators=600; total time=   0.7s\n",
      "[CV] END max_depth=15, max_features=sqrt, min_samples_leaf=1, min_samples_split=15, n_estimators=600; total time=   0.7s\n",
      "[CV] END max_depth=15, max_features=sqrt, min_samples_leaf=1, min_samples_split=15, n_estimators=600; total time=   0.7s\n",
      "[CV] END max_depth=15, max_features=sqrt, min_samples_leaf=1, min_samples_split=15, n_estimators=600; total time=   0.6s\n",
      "[CV] END max_depth=15, max_features=sqrt, min_samples_leaf=1, min_samples_split=15, n_estimators=600; total time=   0.6s\n",
      "[CV] END max_depth=15, max_features=auto, min_samples_leaf=2, min_samples_split=5, n_estimators=1000; total time=   1.5s\n",
      "[CV] END max_depth=15, max_features=auto, min_samples_leaf=2, min_samples_split=5, n_estimators=1000; total time=   1.4s\n",
      "[CV] END max_depth=15, max_features=auto, min_samples_leaf=2, min_samples_split=5, n_estimators=1000; total time=   1.6s\n",
      "[CV] END max_depth=15, max_features=auto, min_samples_leaf=2, min_samples_split=5, n_estimators=1000; total time=   1.7s\n",
      "[CV] END max_depth=15, max_features=auto, min_samples_leaf=2, min_samples_split=5, n_estimators=1000; total time=   1.6s\n",
      "[CV] END max_depth=20, max_features=sqrt, min_samples_leaf=1, min_samples_split=100, n_estimators=100; total time=   0.0s\n",
      "[CV] END max_depth=20, max_features=sqrt, min_samples_leaf=1, min_samples_split=100, n_estimators=100; total time=   0.0s\n",
      "[CV] END max_depth=20, max_features=sqrt, min_samples_leaf=1, min_samples_split=100, n_estimators=100; total time=   0.0s\n",
      "[CV] END max_depth=20, max_features=sqrt, min_samples_leaf=1, min_samples_split=100, n_estimators=100; total time=   0.0s\n",
      "[CV] END max_depth=20, max_features=sqrt, min_samples_leaf=1, min_samples_split=100, n_estimators=100; total time=   0.0s\n",
      "[CV] END max_depth=25, max_features=sqrt, min_samples_leaf=1, min_samples_split=2, n_estimators=1200; total time=   1.7s\n",
      "[CV] END max_depth=25, max_features=sqrt, min_samples_leaf=1, min_samples_split=2, n_estimators=1200; total time=   1.7s\n",
      "[CV] END max_depth=25, max_features=sqrt, min_samples_leaf=1, min_samples_split=2, n_estimators=1200; total time=   1.4s\n",
      "[CV] END max_depth=25, max_features=sqrt, min_samples_leaf=1, min_samples_split=2, n_estimators=1200; total time=   1.5s\n",
      "[CV] END max_depth=25, max_features=sqrt, min_samples_leaf=1, min_samples_split=2, n_estimators=1200; total time=   1.8s\n",
      "[CV] END max_depth=15, max_features=sqrt, min_samples_leaf=1, min_samples_split=10, n_estimators=1100; total time=   1.3s\n",
      "[CV] END max_depth=15, max_features=sqrt, min_samples_leaf=1, min_samples_split=10, n_estimators=1100; total time=   1.3s\n",
      "[CV] END max_depth=15, max_features=sqrt, min_samples_leaf=1, min_samples_split=10, n_estimators=1100; total time=   1.3s\n",
      "[CV] END max_depth=15, max_features=sqrt, min_samples_leaf=1, min_samples_split=10, n_estimators=1100; total time=   1.5s\n",
      "[CV] END max_depth=15, max_features=sqrt, min_samples_leaf=1, min_samples_split=10, n_estimators=1100; total time=   1.4s\n",
      "[CV] END max_depth=30, max_features=auto, min_samples_leaf=1, min_samples_split=2, n_estimators=1100; total time=   1.9s\n",
      "[CV] END max_depth=30, max_features=auto, min_samples_leaf=1, min_samples_split=2, n_estimators=1100; total time=   1.9s\n",
      "[CV] END max_depth=30, max_features=auto, min_samples_leaf=1, min_samples_split=2, n_estimators=1100; total time=   1.9s\n",
      "[CV] END max_depth=30, max_features=auto, min_samples_leaf=1, min_samples_split=2, n_estimators=1100; total time=   1.8s\n",
      "[CV] END max_depth=30, max_features=auto, min_samples_leaf=1, min_samples_split=2, n_estimators=1100; total time=   1.9s\n",
      "[CV] END max_depth=25, max_features=sqrt, min_samples_leaf=2, min_samples_split=2, n_estimators=700; total time=   0.9s\n",
      "[CV] END max_depth=25, max_features=sqrt, min_samples_leaf=2, min_samples_split=2, n_estimators=700; total time=   0.8s\n",
      "[CV] END max_depth=25, max_features=sqrt, min_samples_leaf=2, min_samples_split=2, n_estimators=700; total time=   0.8s\n",
      "[CV] END max_depth=25, max_features=sqrt, min_samples_leaf=2, min_samples_split=2, n_estimators=700; total time=   0.8s\n",
      "[CV] END max_depth=25, max_features=sqrt, min_samples_leaf=2, min_samples_split=2, n_estimators=700; total time=   0.8s\n",
      "[CV] END max_depth=10, max_features=sqrt, min_samples_leaf=2, min_samples_split=10, n_estimators=1100; total time=   1.2s\n",
      "[CV] END max_depth=10, max_features=sqrt, min_samples_leaf=2, min_samples_split=10, n_estimators=1100; total time=   1.2s\n",
      "[CV] END max_depth=10, max_features=sqrt, min_samples_leaf=2, min_samples_split=10, n_estimators=1100; total time=   1.3s\n",
      "[CV] END max_depth=10, max_features=sqrt, min_samples_leaf=2, min_samples_split=10, n_estimators=1100; total time=   1.3s\n",
      "[CV] END max_depth=10, max_features=sqrt, min_samples_leaf=2, min_samples_split=10, n_estimators=1100; total time=   1.5s\n",
      "[CV] END max_depth=25, max_features=auto, min_samples_leaf=1, min_samples_split=5, n_estimators=300; total time=   0.5s\n",
      "[CV] END max_depth=25, max_features=auto, min_samples_leaf=1, min_samples_split=5, n_estimators=300; total time=   0.5s\n",
      "[CV] END max_depth=25, max_features=auto, min_samples_leaf=1, min_samples_split=5, n_estimators=300; total time=   0.5s\n",
      "[CV] END max_depth=25, max_features=auto, min_samples_leaf=1, min_samples_split=5, n_estimators=300; total time=   0.5s\n",
      "[CV] END max_depth=25, max_features=auto, min_samples_leaf=1, min_samples_split=5, n_estimators=300; total time=   0.5s\n",
      "[CV] END max_depth=5, max_features=auto, min_samples_leaf=1, min_samples_split=5, n_estimators=700; total time=   1.0s\n",
      "[CV] END max_depth=5, max_features=auto, min_samples_leaf=1, min_samples_split=5, n_estimators=700; total time=   1.0s\n",
      "[CV] END max_depth=5, max_features=auto, min_samples_leaf=1, min_samples_split=5, n_estimators=700; total time=   0.9s\n",
      "[CV] END max_depth=5, max_features=auto, min_samples_leaf=1, min_samples_split=5, n_estimators=700; total time=   1.0s\n",
      "[CV] END max_depth=5, max_features=auto, min_samples_leaf=1, min_samples_split=5, n_estimators=700; total time=   0.9s\n"
     ]
    },
    {
     "data": {
      "text/plain": [
       "RandomizedSearchCV(cv=5, estimator=RandomForestRegressor(), n_jobs=1,\n",
       "                   param_distributions={'max_depth': [5, 10, 15, 20, 25, 30],\n",
       "                                        'max_features': ['auto', 'sqrt'],\n",
       "                                        'min_samples_leaf': [1, 2, 5, 10],\n",
       "                                        'min_samples_split': [2, 5, 10, 15,\n",
       "                                                              100],\n",
       "                                        'n_estimators': [100, 200, 300, 400,\n",
       "                                                         500, 600, 700, 800,\n",
       "                                                         900, 1000, 1100,\n",
       "                                                         1200]},\n",
       "                   scoring='neg_mean_squared_error', verbose=2)"
      ]
     },
     "execution_count": 49,
     "metadata": {},
     "output_type": "execute_result"
    }
   ],
   "source": [
    "rf_random.fit(X_train_val,y_train_val)"
   ]
  },
  {
   "cell_type": "code",
   "execution_count": 50,
   "id": "d087498b",
   "metadata": {},
   "outputs": [
    {
     "data": {
      "text/plain": [
       "{'n_estimators': 700,\n",
       " 'min_samples_split': 2,\n",
       " 'min_samples_leaf': 2,\n",
       " 'max_features': 'sqrt',\n",
       " 'max_depth': 25}"
      ]
     },
     "execution_count": 50,
     "metadata": {},
     "output_type": "execute_result"
    }
   ],
   "source": [
    "rf_random.best_params_"
   ]
  },
  {
   "cell_type": "code",
   "execution_count": 51,
   "id": "8b4794ef",
   "metadata": {},
   "outputs": [],
   "source": [
    "prediction = rf_random.predict(X_test)"
   ]
  },
  {
   "cell_type": "code",
   "execution_count": 52,
   "id": "e6a9e1e4",
   "metadata": {},
   "outputs": [
    {
     "data": {
      "image/png": "[encoded data removed]",
      "text/plain": [
       "<Figure size 432x288 with 1 Axes>"
      ]
     },
     "metadata": {},
     "output_type": "display_data"
    }
   ],
   "source": [
    "plt.scatter(y_test,prediction,alpha =0.2,color=\"DarkBlue\")\n",
    "plt.title('Actual vs. Predicted Airline Prices')\n",
    "plt.xlabel('Predicted Airline Prices')\n",
    "plt.ylabel('Actual Airline Prices');"
   ]
  },
  {
   "cell_type": "code",
   "execution_count": 53,
   "id": "352ddbdb",
   "metadata": {},
   "outputs": [
    {
     "name": "stdout",
     "output_type": "stream",
     "text": [
      "MAE: 487.6588205878737\n",
      "MSE: 542926.7712993954\n",
      "RMSE: 736.835647413584\n"
     ]
    }
   ],
   "source": [
    "print(\"MAE:\" , metrics.mean_absolute_error(y_test,prediction))\n",
    "print(\"MSE:\" , metrics.mean_squared_error(y_test,prediction))\n",
    "print(\"RMSE:\" , np.sqrt(metrics.mean_squared_error(y_test,prediction)))"
   ]
  },
  {
   "cell_type": "markdown",
   "id": "894c74db",
   "metadata": {},
   "source": [
    "#### Therefore, hyperparameter tuning did not improve the model"
   ]
  },
  {
   "cell_type": "code",
   "execution_count": 54,
   "id": "18c616f1",
   "metadata": {},
   "outputs": [
    {
     "data": {
      "text/html": [
       "<div>\n",
       "<style scoped>\n",
       "    .dataframe tbody tr th:only-of-type {\n",
       "        vertical-align: middle;\n",
       "    }\n",
       "\n",
       "    .dataframe tbody tr th {\n",
       "        vertical-align: top;\n",
       "    }\n",
       "\n",
       "    .dataframe thead th {\n",
       "        text-align: right;\n",
       "    }\n",
       "</style>\n",
       "<table border=\"1\" class=\"dataframe\">\n",
       "  <thead>\n",
       "    <tr style=\"text-align: right;\">\n",
       "      <th></th>\n",
       "      <th>Predicted Price</th>\n",
       "      <th>Actual Price</th>\n",
       "    </tr>\n",
       "  </thead>\n",
       "  <tbody>\n",
       "    <tr>\n",
       "      <th>0</th>\n",
       "      <td>2945.264179</td>\n",
       "      <td>2878.12</td>\n",
       "    </tr>\n",
       "    <tr>\n",
       "      <th>1</th>\n",
       "      <td>5896.074292</td>\n",
       "      <td>6275.60</td>\n",
       "    </tr>\n",
       "    <tr>\n",
       "      <th>2</th>\n",
       "      <td>6570.101383</td>\n",
       "      <td>6362.16</td>\n",
       "    </tr>\n",
       "    <tr>\n",
       "      <th>3</th>\n",
       "      <td>2945.264179</td>\n",
       "      <td>3051.24</td>\n",
       "    </tr>\n",
       "    <tr>\n",
       "      <th>4</th>\n",
       "      <td>7834.352415</td>\n",
       "      <td>8309.76</td>\n",
       "    </tr>\n",
       "    <tr>\n",
       "      <th>...</th>\n",
       "      <td>...</td>\n",
       "      <td>...</td>\n",
       "    </tr>\n",
       "    <tr>\n",
       "      <th>250</th>\n",
       "      <td>8837.087678</td>\n",
       "      <td>8915.68</td>\n",
       "    </tr>\n",
       "    <tr>\n",
       "      <th>251</th>\n",
       "      <td>7560.378071</td>\n",
       "      <td>7314.32</td>\n",
       "    </tr>\n",
       "    <tr>\n",
       "      <th>252</th>\n",
       "      <td>7301.471924</td>\n",
       "      <td>7790.40</td>\n",
       "    </tr>\n",
       "    <tr>\n",
       "      <th>253</th>\n",
       "      <td>3415.064657</td>\n",
       "      <td>3224.36</td>\n",
       "    </tr>\n",
       "    <tr>\n",
       "      <th>254</th>\n",
       "      <td>8460.243489</td>\n",
       "      <td>9283.56</td>\n",
       "    </tr>\n",
       "  </tbody>\n",
       "</table>\n",
       "<p>255 rows × 2 columns</p>\n",
       "</div>"
      ],
      "text/plain": [
       "     Predicted Price  Actual Price\n",
       "0        2945.264179       2878.12\n",
       "1        5896.074292       6275.60\n",
       "2        6570.101383       6362.16\n",
       "3        2945.264179       3051.24\n",
       "4        7834.352415       8309.76\n",
       "..               ...           ...\n",
       "250      8837.087678       8915.68\n",
       "251      7560.378071       7314.32\n",
       "252      7301.471924       7790.40\n",
       "253      3415.064657       3224.36\n",
       "254      8460.243489       9283.56\n",
       "\n",
       "[255 rows x 2 columns]"
      ]
     },
     "execution_count": 54,
     "metadata": {},
     "output_type": "execute_result"
    }
   ],
   "source": [
    "test_df = pd.DataFrame({\n",
    "    \"Predicted Price\" : rf.predict(X_test),\n",
    "    \"Actual Price\" : y_test,\n",
    "}).reset_index(drop = True)\n",
    "\n",
    "test_df"
   ]
  },
  {
   "cell_type": "markdown",
   "id": "6b83ec68",
   "metadata": {},
   "source": [
    "## Saving The Final Model: <a class=\"anchor\" id=\"model\"></a>"
   ]
  },
  {
   "cell_type": "code",
   "execution_count": 55,
   "id": "cb79861e",
   "metadata": {},
   "outputs": [],
   "source": [
    "# save the model\n",
    "file = open('rf_flight_prediction.pkl', 'wb')\n",
    "pkl.dump(rf, file)"
   ]
  },
  {
   "cell_type": "code",
   "execution_count": 56,
   "id": "c4f2af96",
   "metadata": {},
   "outputs": [],
   "source": [
    "# open the model\n",
    "model = open('rf_flight_prediction.pkl','rb')\n",
    "rf_flight_prediction = pkl.load(model)"
   ]
  },
  {
   "cell_type": "code",
   "execution_count": 57,
   "id": "dcde1fe0",
   "metadata": {},
   "outputs": [
    {
     "name": "stdout",
     "output_type": "stream",
     "text": [
      "R2 score 0.8614793041616288\n",
      "MAE: 475.3232330311561\n",
      "MSE: 571583.4851074062\n",
      "RMSE: 756.0314048420252\n"
     ]
    }
   ],
   "source": [
    "print(f'R2 score {metrics.r2_score(y_test,rf_flight_prediction.predict(X_test))}')\n",
    "print(\"MAE:\" , metrics.mean_absolute_error(y_test,rf_flight_prediction.predict(X_test)))\n",
    "print(\"MSE:\" , metrics.mean_squared_error(y_test,rf_flight_prediction.predict(X_test)))\n",
    "print(\"RMSE:\" , np.sqrt(metrics.mean_squared_error(y_test,rf_flight_prediction.predict(X_test))))"
   ]
  },
  {
   "cell_type": "markdown",
   "id": "43c1a2ff",
   "metadata": {},
   "source": [
    "### Therefore, the final model is able to predict flight ticket prices within around  ≈ 499 INR"
   ]
  },
  {
   "cell_type": "code",
   "execution_count": null,
   "id": "7393f68e",
   "metadata": {},
   "outputs": [],
   "source": []
  }
 ],
 "metadata": {
  "kernelspec": {
   "display_name": "Python 3 (ipykernel)",
   "language": "python",
   "name": "python3"
  },
  "language_info": {
   "codemirror_mode": {
    "name": "ipython",
    "version": 3
   },
   "file_extension": ".py",
   "mimetype": "text/x-python",
   "name": "python",
   "nbconvert_exporter": "python",
   "pygments_lexer": "ipython3",
   "version": "3.9.6"
  }
 },
 "nbformat": 4,
 "nbformat_minor": 5
}
